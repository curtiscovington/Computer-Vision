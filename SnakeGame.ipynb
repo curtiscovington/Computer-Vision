{
 "cells": [
  {
   "cell_type": "code",
   "execution_count": 1,
   "id": "18805bba",
   "metadata": {},
   "outputs": [
    {
     "name": "stdout",
     "output_type": "stream",
     "text": [
      "pygame 2.1.2 (SDL 2.0.18, Python 3.9.7)\n",
      "Hello from the pygame community. https://www.pygame.org/contribute.html\n"
     ]
    }
   ],
   "source": [
    "import pygame\n",
    "import numpy as np\n",
    "import time\n",
    "import random"
   ]
  },
  {
   "cell_type": "code",
   "execution_count": 2,
   "id": "5f8e4b8b",
   "metadata": {},
   "outputs": [],
   "source": [
    "def collision_with_apple(apple_position, score):\n",
    "    apple_position = [random.randrange(1,50)*10,random.randrange(1,50)*10]\n",
    "    score += 1\n",
    "    return apple_position, score\n",
    "\n",
    "def collision_with_boundaries(snake_head):\n",
    "    if snake_head[0]>=500 or snake_head[0]<0 or snake_head[1]>=500 or snake_head[1]<0 :\n",
    "        return 1\n",
    "    else:\n",
    "        return 0\n",
    "\n",
    "def collision_with_self(snake_position):\n",
    "    snake_head = snake_position[0]\n",
    "    if snake_head in snake_position[1:]:\n",
    "        return 1\n",
    "    else:\n",
    "        return 0"
   ]
  },
  {
   "cell_type": "code",
   "execution_count": 3,
   "id": "a1e04f1f",
   "metadata": {},
   "outputs": [],
   "source": [
    "def is_direction_blocked(snake_position, current_direction_vector):\n",
    "    next_step = snake_position[0]+ current_direction_vector\n",
    "    snake_head = snake_position[0]\n",
    "    if collision_with_boundaries(snake_head) == 1 or collision_with_self(snake_position) == 1:\n",
    "        return 1\n",
    "    else:\n",
    "        return 0"
   ]
  },
  {
   "cell_type": "code",
   "execution_count": 4,
   "id": "5426530c",
   "metadata": {},
   "outputs": [],
   "source": [
    "def generate_snake(snake_head, snake_position, apple_position, button_direction, score):\n",
    "\n",
    "    if button_direction == 1:\n",
    "        snake_head[0] += 10\n",
    "    elif button_direction == 0:\n",
    "        snake_head[0] -= 10\n",
    "    elif button_direction == 2:\n",
    "        snake_head[1] += 10\n",
    "    elif button_direction == 3:\n",
    "        snake_head[1] -= 10\n",
    "    else:\n",
    "        pass\n",
    "        \n",
    "    if snake_head == apple_position:\n",
    "        apple_position, score = collision_with_apple(apple_position, score)\n",
    "        snake_position.insert(0,list(snake_head))\n",
    "\n",
    "    else:\n",
    "        snake_position.insert(0,list(snake_head))\n",
    "        snake_position.pop()\n",
    "        \n",
    "    return snake_position, apple_position, score"
   ]
  },
  {
   "cell_type": "code",
   "execution_count": 5,
   "id": "5cf1ebd3",
   "metadata": {},
   "outputs": [],
   "source": [
    "def display_snake(snake_position):\n",
    "    for position in snake_position:\n",
    "        pygame.draw.rect(display,red,pygame.Rect(position[0],position[1],10,10))\n",
    "\n",
    "def display_apple(display,apple_position, apple):\n",
    "    display.blit(apple,(apple_position[0], apple_position[1]))\n",
    "    "
   ]
  },
  {
   "cell_type": "code",
   "execution_count": 6,
   "id": "3000dded",
   "metadata": {},
   "outputs": [],
   "source": [
    "def play_game(snake_head, snake_position, apple_position, button_direction, apple, score):\n",
    "    crashed = False\n",
    "    prev_button_direction = 1\n",
    "    button_direction = 1\n",
    "    current_direction_vector = np.array(snake_position[0])-np.array(snake_position[1])\n",
    "    game_start = False\n",
    "    while crashed is not True:\n",
    "        for event in pygame.event.get():\n",
    "\n",
    "            if event.type == pygame.QUIT:\n",
    "                crashed = True\n",
    "            if event.type == pygame.KEYDOWN:\n",
    "                # if space is pressed\n",
    "                if event.key == pygame.K_SPACE:\n",
    "                    game_start = True\n",
    "                if event.key == pygame.K_LEFT and prev_button_direction != 1:\n",
    "                    button_direction = 0\n",
    "                elif event.key == pygame.K_RIGHT and prev_button_direction != 0:\n",
    "                    button_direction = 1\n",
    "                elif event.key == pygame.K_UP and prev_button_direction != 2:\n",
    "                    button_direction = 3\n",
    "                elif event.key == pygame.K_DOWN and prev_button_direction != 3:\n",
    "                    button_direction = 2\n",
    "                else:\n",
    "                    button_direction = button_direction\n",
    "        \n",
    "        display.fill(window_color)\n",
    "        display_apple(display,apple_position,apple)\n",
    "        display_snake(snake_position)\n",
    "        if game_start:\n",
    "            snake_position, apple_position, score = generate_snake(snake_head, snake_position, apple_position, button_direction, score)\n",
    "            pygame.display.set_caption(\"Snake Game\"+\"  \"+\"SCORE: \"+str(score))\n",
    "            pygame.display.update()\n",
    "            prev_button_direction = button_direction\n",
    "            if is_direction_blocked(snake_position, current_direction_vector) == 1:\n",
    "                crashed = True\n",
    "\n",
    "        clock.tick(2)\n",
    "    return score\n"
   ]
  },
  {
   "cell_type": "code",
   "execution_count": 7,
   "id": "ca873760",
   "metadata": {},
   "outputs": [],
   "source": [
    "def display_final_score(display_text, final_score):\n",
    "    largeText = pygame.font.Font('freesansbold.ttf',35)\n",
    "    TextSurf = largeText.render(display_text, True, black)\n",
    "    TextRect = TextSurf.get_rect()\n",
    "    TextRect.center = ((display_width/2),(display_height/2))\n",
    "    display.blit(TextSurf, TextRect)\n",
    "    pygame.display.update()\n",
    "    time.sleep(2)"
   ]
  },
  {
   "cell_type": "code",
   "execution_count": 8,
   "id": "1c8ddbef",
   "metadata": {},
   "outputs": [],
   "source": [
    "if __name__ == \"__main__\":\n",
    "    \n",
    "###### initialize required parameters ########  \n",
    "    display_width = 500\n",
    "    display_height = 500\n",
    "    green = (0,255,0)\n",
    "    red = (255,0,0)\n",
    "    black = (0,0,0)\n",
    "    window_color = (200,200,200)\n",
    "    apple_image = pygame.image.load('apple.png')\n",
    "    clock=pygame.time.Clock() \n",
    "    \n",
    "    snake_head = [250,250]\n",
    "    snake_position = [[250,250],[240,250],[230,250]]\n",
    "    apple_position = [random.randrange(1,50)*10,random.randrange(1,50)*10]\n",
    "    score = 0\n",
    "    \n",
    "    pygame.init() #initialize pygame modules    \n",
    "\n",
    "    #### display game window #####\n",
    "\n",
    "    display = pygame.display.set_mode((display_width,display_height))\n",
    "    display.fill(window_color)\n",
    "    pygame.display.update()\n",
    "    \n",
    "    final_score = play_game(snake_head, snake_position, apple_position, 1, apple_image, score)\n",
    "    display = pygame.display.set_mode((display_width,display_height))\n",
    "    display.fill(window_color)\n",
    "    pygame.display.update()\n",
    "\n",
    "    display_text = 'Your Score is: ' + str(final_score)\n",
    "    display_final_score(display_text, final_score)\n",
    "\n",
    "    pygame.quit()\n",
    "\n"
   ]
  },
  {
   "cell_type": "code",
   "execution_count": null,
   "id": "7cc31db4",
   "metadata": {},
   "outputs": [],
   "source": []
  }
 ],
 "metadata": {
  "kernelspec": {
   "display_name": "Python 3",
   "language": "python",
   "name": "python3"
  },
  "language_info": {
   "codemirror_mode": {
    "name": "ipython",
    "version": 3
   },
   "file_extension": ".py",
   "mimetype": "text/x-python",
   "name": "python",
   "nbconvert_exporter": "python",
   "pygments_lexer": "ipython3",
   "version": "3.9.7"
  }
 },
 "nbformat": 4,
 "nbformat_minor": 5
}
